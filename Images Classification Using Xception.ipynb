{
 "cells": [
  {
   "cell_type": "markdown",
   "metadata": {},
   "source": [
    "#### This Projects is supposed to help anyone getting familiare with Transfer learning \n",
    "#### i think i did my best to explaine and to don't make errors \n",
    "#### but if you think i did an error you can correct me, my email : mouadmeziane28@gmail.com"
   ]
  },
  {
   "cell_type": "markdown",
   "metadata": {},
   "source": [
    "## <span style=\"color:blue\">Optimisation des Hyperparamètres par Fine-Tuning pour le Modèle Xception sur CIFAR-10</span>"
   ]
  },
  {
   "cell_type": "markdown",
   "metadata": {},
   "source": [
    "# Objectif : \n",
    "\n",
    "Dans le cadre de ce travail pratique, l'objectif était de se familiariser avec les concepts avancés du Deep Learning, en mettant particulièrement l'accent sur l'optimisation des performances des modèles à travers le `Transfert Learning`. Grâce à l'utilisation de modèles pré-entraînés tels que <b>Xception</b>, <b>ResNet</b>, <b>DenseNet</b> ... , nous avons exploré les capacités du transfert learning dans des tâches de classification d'images. Ce Projet nous a offert une expérience pratique précieuse pour appliquer ces concepts en construisant nos propres modèles Deep Learning et en les optimisant pour des performances maximales. En utilisant des techniques de recherche d'hyperparamètres telles que la recherche aléatoire, nous avons pu affiner les configurations de nos modèles pour obtenir les meilleurs résultats.\n"
   ]
  },
  {
   "cell_type": "markdown",
   "metadata": {},
   "source": [
    "# Librairies utilisées : "
   ]
  },
  {
   "cell_type": "code",
   "execution_count": 9,
   "metadata": {
    "_cell_guid": "b1076dfc-b9ad-4769-8c92-a6c4dae69d19",
    "_uuid": "8f2839f25d086af736a60e9eeb907d3b93b6e0e5",
    "execution": {
     "iopub.execute_input": "2024-05-06T23:52:51.174644Z",
     "iopub.status.busy": "2024-05-06T23:52:51.173924Z",
     "iopub.status.idle": "2024-05-06T23:52:51.182176Z",
     "shell.execute_reply": "2024-05-06T23:52:51.181197Z",
     "shell.execute_reply.started": "2024-05-06T23:52:51.174612Z"
    }
   },
   "outputs": [],
   "source": [
    "import matplotlib.pyplot as plt\n",
    "import numpy as np\n",
    "import cv2 \n",
    "import PIL\n",
    "from PIL import Image\n",
    "import tensorflow #as tf\n",
    "# from tensorflow import keras\n",
    "from tensorflow.keras import layers\n",
    "# from tensorflow.python.keras.layers import Dense#, Flatten\n",
    "# from keras.layers import Dense,Flatten\n",
    "from tensorflow.keras.models import Sequential\n",
    "from tensorflow.keras.optimizers import Adam\n",
    "from tensorflow.keras.utils import to_categorical\n",
    "from tensorflow.keras.preprocessing.image import ImageDataGenerator\n",
    "import time\n",
    "# from tensorflow.keras.applications import ResNet50\n",
    "from keras_tuner import HyperModel, Hyperband\n",
    "from keras.applications import Xception\n",
    "from keras_tuner.tuners import RandomSearch \n",
    "\n",
    "from tensorflow.keras.layers import Dropout, BatchNormalization, Conv2D, GlobalAveragePooling2D\n",
    "# from tensorflow.keras.models import Sequential\n",
    "from tensorflow.keras.layers import Flatten, Dense, Input\n",
    "from tensorflow.keras.regularizers import l2\n",
    "from tensorflow.keras.applications import Xception\n",
    "from tensorflow.keras.models import Model  # Import the Model class"
   ]
  },
  {
   "cell_type": "markdown",
   "metadata": {},
   "source": [
    "# Les GPUS Valables : "
   ]
  },
  {
   "cell_type": "code",
   "execution_count": null,
   "metadata": {},
   "outputs": [],
   "source": [
    "print(\"Num GPUs Available:\", len(tensorflow.config.experimental.list_physical_devices('GPU')))"
   ]
  },
  {
   "cell_type": "markdown",
   "metadata": {},
   "source": [
    "# Dataset utilisé :  `Cifar10` "
   ]
  },
  {
   "cell_type": "markdown",
   "metadata": {},
   "source": [
    "\n",
    "# CIFAR-10 Dataset\n",
    "\n",
    "Le CIFAR-10 est un ensemble de données très utilisé en vision par ordinateur. Il se compose de 60 000 images couleur de taille 32x32 pixels, réparties en 10 classes équilibrées. Chaque classe représente une catégorie d'objets courants :\n",
    "\n",
    "- 0: `Avion`\n",
    "- 1: `Automobile`\n",
    "- 2: `Oiseau`\n",
    "- 3: `Chat`\n",
    "- 4: `Cerf`\n",
    "- 5: `Chien`\n",
    "- 6: `Grenouille`\n",
    "- 7: `Cheval`\n",
    "- 8: `Navire`\n",
    "- 9: `Camion`\n",
    "\n",
    "L'ensemble de données est divisé en deux parties : un ensemble d'apprentissage contenant 50 000 images et un ensemble de test contenant 10 000 images. Chaque image est représentée par trois canaux (rouge, vert, bleu) avec une profondeur de couleur de 8 bits par canal.\n",
    "\n",
    "Le CIFAR-10 est souvent utilisé comme benchmark pour évaluer les performances des algorithmes de classification d'images. En raison de sa taille modeste et de sa diversité de classes, il permet de tester rapidement et efficacement de nouveaux modèles d'apprentissage automatique.\n",
    "\n"
   ]
  },
  {
   "cell_type": "code",
   "execution_count": 2,
   "metadata": {
    "execution": {
     "iopub.execute_input": "2024-05-06T23:51:29.625052Z",
     "iopub.status.busy": "2024-05-06T23:51:29.624057Z",
     "iopub.status.idle": "2024-05-06T23:51:29.630588Z",
     "shell.execute_reply": "2024-05-06T23:51:29.629626Z",
     "shell.execute_reply.started": "2024-05-06T23:51:29.625019Z"
    }
   },
   "outputs": [],
   "source": [
    "from tensorflow.keras.datasets import cifar10"
   ]
  },
  {
   "cell_type": "markdown",
   "metadata": {},
   "source": [
    "La ligne `(x_train, y_train), (x_test, y_test) = cifar10.load_data()` est utilisée pour charger les données du dataset CIFAR-10 dans deux ensembles distincts : un ensemble d'apprentissage (`x_train`, `y_train`) et un ensemble de test (`x_test`, `y_test`). \n",
    "\n",
    "- `x_train` contient les images d'apprentissage, représentées sous forme de tenseurs.\n",
    "- `y_train` contient les étiquettes (ou labels) correspondantes pour chaque image dans l'ensemble d'apprentissage.\n",
    "- `x_test` contient les images de test.\n",
    "- `y_test` contient les étiquettes correspondantes pour chaque image dans l'ensemble de test.\n",
    "\n",
    "Ces données sont généralement utilisées pour entraîner et évaluer des modèles de classification d'images à l'aide d'algorithmes de Deep Learning.\n"
   ]
  },
  {
   "cell_type": "code",
   "execution_count": 3,
   "metadata": {
    "execution": {
     "iopub.execute_input": "2024-05-06T23:51:33.581449Z",
     "iopub.status.busy": "2024-05-06T23:51:33.581128Z",
     "iopub.status.idle": "2024-05-06T23:51:41.794603Z",
     "shell.execute_reply": "2024-05-06T23:51:41.793589Z",
     "shell.execute_reply.started": "2024-05-06T23:51:33.581424Z"
    }
   },
   "outputs": [
    {
     "name": "stdout",
     "output_type": "stream",
     "text": [
      "Downloading data from https://www.cs.toronto.edu/~kriz/cifar-10-python.tar.gz\n",
      "\u001b[1m170498071/170498071\u001b[0m \u001b[32m━━━━━━━━━━━━━━━━━━━━\u001b[0m\u001b[37m\u001b[0m \u001b[1m6s\u001b[0m 0us/step\n"
     ]
    }
   ],
   "source": [
    "(X_train, y_train), (X_test, y_test) = cifar10.load_data()"
   ]
  },
  {
   "cell_type": "code",
   "execution_count": 4,
   "metadata": {
    "execution": {
     "iopub.execute_input": "2024-05-06T23:51:44.062826Z",
     "iopub.status.busy": "2024-05-06T23:51:44.062199Z",
     "iopub.status.idle": "2024-05-06T23:51:44.069081Z",
     "shell.execute_reply": "2024-05-06T23:51:44.067696Z",
     "shell.execute_reply.started": "2024-05-06T23:51:44.062792Z"
    }
   },
   "outputs": [
    {
     "name": "stdout",
     "output_type": "stream",
     "text": [
      "Label 0: Airplane\n",
      "Label 1: Automobile\n",
      "Label 2: Bird\n",
      "Label 3: Cat\n",
      "Label 4: Deer\n",
      "Label 5: Dog\n",
      "Label 6: Frog\n",
      "Label 7: Horse\n",
      "Label 8: Ship\n",
      "Label 9: Truck\n"
     ]
    }
   ],
   "source": [
    "label_to_category = {\n",
    "    # Défition un dictionnaire qui associe les étiquettes aux catégories d'objets\n",
    "    0: \"Airplane\",\n",
    "    1: \"Automobile\",\n",
    "    2: \"Bird\",\n",
    "    3: \"Cat\",\n",
    "    4: \"Deer\",\n",
    "    5: \"Dog\",\n",
    "    6: \"Frog\",\n",
    "    7: \"Horse\",\n",
    "    8: \"Ship\",\n",
    "    9: \"Truck\"\n",
    "}\n",
    "\n",
    "# visualisation du resultats : \n",
    "for label, category in label_to_category.items():\n",
    "    print(f\"Label {label}: {category}\")"
   ]
  },
  {
   "cell_type": "markdown",
   "metadata": {},
   "source": [
    "<div style=\"background-color: #f4f4f4; padding: 20px; border-radius: 10px;\">\n",
    "    <p>Ce <strong>bloc de code</strong> affiche un <strong>échantillon d'images</strong> du dataset <strong>CIFAR-10</strong>, chacune accompagnée de son <strong>label</strong> et de sa <strong>catégorie correspondante</strong>. Les <strong>images</strong> sont affichées dans une <strong>figure matplotlib</strong> avec une taille de <strong>10 pouces de largeur</strong> sur <strong>5 pouces de hauteur</strong>.</p>\n",
    "    <p>Chaque <strong>sous-figure</strong> contient une seule <strong>image</strong>, représentant un exemple de l'une des <strong>10 classes d'objets</strong> présentes dans le dataset <strong>CIFAR-10</strong>. Le <strong>titre</strong> de chaque sous-figure affiche à la fois le <strong>label numérique</strong> de l'<strong>image</strong> et sa <strong>catégorie</strong>, fournissant ainsi une indication visuelle du contenu de chaque <strong>image</strong>.</p>\n",
    "    <p>En parcourant les <strong>données d'entraînement</strong>, l'<strong>algorithme</strong> sélectionne la première occurrence de chaque <strong>label</strong> afin de garantir la diversité des <strong>exemples</strong> présentés. Cette approche permet de visualiser un <strong>échantillon représentatif</strong> des différentes <strong>classes d'objets</strong> présentes dans le dataset.</p>\n",
    "</div>\n"
   ]
  },
  {
   "cell_type": "code",
   "execution_count": 6,
   "metadata": {
    "execution": {
     "iopub.execute_input": "2024-05-06T23:51:59.615281Z",
     "iopub.status.busy": "2024-05-06T23:51:59.614337Z",
     "iopub.status.idle": "2024-05-06T23:52:00.282577Z",
     "shell.execute_reply": "2024-05-06T23:52:00.281722Z",
     "shell.execute_reply.started": "2024-05-06T23:51:59.615238Z"
    }
   },
   "outputs": [
    {
     "data": {
      "image/png": "[encoded data removed]",
      "text/plain": [
       "<Figure size 1000x500 with 10 Axes>"
      ]
     },
     "metadata": {},
     "output_type": "display_data"
    }
   ],
   "source": [
    "plt.figure(figsize=(10, 5))\n",
    "\n",
    "\n",
    "for label, category in label_to_category.items(): ## Parcours de chaque étiquette et affichage d'une image\n",
    "\n",
    "## Recherche de l'index de la première occurrence de l'étiquette dans les données d'entraînement\n",
    "    index = (y_train == label).nonzero()[0][0]\n",
    "\n",
    "    \n",
    "    plt.subplot(2, 5, label + 1)\n",
    "    plt.imshow(X_train[index])\n",
    "    plt.title(f\"Label: {label}\\nCategorie: {category}\")\n",
    "    plt.axis('off')\n",
    "\n",
    "plt.tight_layout() ## Ajustement de la mise en page et affichage de la figure\n",
    "\n",
    "\n",
    "plt.show()"
   ]
  },
  {
   "cell_type": "markdown",
   "metadata": {},
   "source": [
    "# *`One-hot encoding`* \n",
    "\n",
    "<div style=\"background-color: #f4f4f4; padding: 20px; border-radius: 10px;\">\n",
    "    <p>Les étiquettes dans les ensembles d'entraînement et de test, <strong>y_train</strong> et <strong>y_test</strong>, sont converties en <strong>variables catégorielles</strong> à l'aide de la fonction <strong>to_categorical</strong>. Cette transformation est réalisée pour s'assurer que les étiquettes sont représentées de manière appropriée pour une tâche de classification.</p>\n",
    "    <p>Les variables catégorielles sont une forme de <strong>représentation one-hot</strong>, où chaque étiquette est encodée sous forme d'un vecteur binaire avec une seule composante active. Par exemple, si une étiquette avait la valeur 3 dans l'ensemble original, après conversion en variable catégorielle, elle serait représentée par le vecteur [0, 0, 0, 1, 0, 0, 0, 0, 0, 0], où la quatrième composante est activée pour indiquer la classe correspondante.</p>\n",
    "    <p>Cette conversion est couramment utilisée dans les problèmes de <strong>classification multiclasse</strong> où il y a plus de deux classes possibles. Elle permet de faciliter l'apprentissage des modèles de machine learning et d'améliorer les performances de prédiction en assurant une représentation appropriée des étiquettes.</p>\n",
    "</div>\n"
   ]
  },
  {
   "cell_type": "code",
   "execution_count": 7,
   "metadata": {
    "execution": {
     "iopub.execute_input": "2024-05-06T23:52:08.866438Z",
     "iopub.status.busy": "2024-05-06T23:52:08.866112Z",
     "iopub.status.idle": "2024-05-06T23:52:08.872577Z",
     "shell.execute_reply": "2024-05-06T23:52:08.871626Z",
     "shell.execute_reply.started": "2024-05-06T23:52:08.866412Z"
    }
   },
   "outputs": [],
   "source": [
    "y_train = to_categorical(y_train)\n",
    "y_test = to_categorical(y_test)"
   ]
  },
  {
   "cell_type": "markdown",
   "metadata": {},
   "source": [
    "# Xception Model : "
   ]
  },
  {
   "cell_type": "markdown",
   "metadata": {},
   "source": [
    "## Modèle Xception\n",
    "\n",
    "Xception est un modèle de réseau de neurones convolutionnel (CNN) profond introduit par François Chollet, le créateur de Keras, en 2017. Ce modèle repose sur le concept de \"Convolution à Séparation en Profondeur\", une variation des convolutions traditionnelles qui vise à améliorer l'efficacité computationnelle et la capacité de représentation des réseaux neuronaux.\n",
    "\n",
    "### Points clés :\n",
    "\n",
    "1. **`Architecture inspirée d'Inception`** : Xception est basé sur l'architecture Inception, célèbre pour son utilisation de différentes tailles de noyaux de convolution dans une même couche pour capturer des motifs à différentes échelles spatiales.\n",
    "\n",
    "\n",
    "\n",
    "2. **`Convolution à Séparation en Profondeur`** : Contrairement à Inception qui utilise des convolutions classiques, Xception utilise des convolutions \"Convolution à Séparation en Profondeur\". Cette opération divise une convolution standard en deux étapes distinctes :\n",
    "   - Convolution spatiale (appelée \"convolution en profondeur\") qui traite chaque canal d'entrée séparément.\n",
    "   - Convolution en profondeur (appelée \"convolution à point\") qui combine les informations spatiales de chaque canal d'entrée.\n",
    "   \n",
    "   \n",
    "\n",
    "3. **`Réduction du nombre de paramètres`** : En utilisant les convolutions \"Convolution à Séparation en Profondeur\", Xception réduit considérablement le nombre de paramètres par rapport aux réseaux classiques, tout en conservant une capacité de représentation élevée.\n",
    "\n",
    "\n",
    "\n",
    "4. **`Performances`** : Xception a démontré des performances impressionnantes sur diverses tâches de vision par ordinateur, notamment la classification d'images, la détection d'objets et la segmentation sémantique.\n"
   ]
  },
  {
   "cell_type": "markdown",
   "metadata": {},
   "source": [
    "# Xception Architecture : "
   ]
  },
  {
   "cell_type": "markdown",
   "metadata": {},
   "source": [
    "# Modèle Xception : Architecture et Fonctionnement\n",
    "\n",
    "Le modèle Xception est une architecture de réseau de neurones convolutifs (CNN) qui s'appuie sur des convolutions séparables en profondeur. Voici une description détaillée :\n",
    "\n",
    "## 1. Structure du réseau Xception\n",
    "\n",
    "- Le réseau Xception est basé sur l'utilisation de convolutions séparables en profondeur pour améliorer l'efficacité du modèle.\n",
    "- La structure du réseau Xception se compose de trois parties principales :\n",
    "  - **Flux d'entrée (Entry Flow)** : Prétraite les informations initiales.\n",
    "  - **Flux intermédiaire (Middle Flow)** : Répété huit fois, contenant des blocs de convolutions.\n",
    "  - **Flux de sortie (Exit Flow)** : Traite les données en sortie.\n",
    "- Toutes les couches de convolution et de convolution séparable sont suivies d'une normalisation par lots (batch normalization).\n",
    "- Xception a surpassé VGG-16, ResNet et Inception V3 dans la plupart des défis de classification classiques.\n",
    "\n",
    "## 2. Fonctionnement de Xception\n",
    "\n",
    "- Xception repose principalement sur deux points :\n",
    "  - **Convolution séparable en profondeur** :\n",
    "    - Une alternative aux convolutions classiques, beaucoup plus efficace en termes de temps de calcul.\n",
    "    - Comprend deux étapes : convolution en profondeur et convolution ponctuelle, permettant de réduire considérablement le nombre d'opérations.\n",
    "\n",
    "## 3. Avantages de la convolution séparable en profondeur\n",
    "\n",
    "- Les convolutions séparables en profondeur permettent d'économiser des ressources de calcul tout en maintenant des performances de modèle comparables.\n",
    "- Elles réduisent le coût des opérations de convolution tout en préservant la capacité du modèle à extraire des caractéristiques importantes.\n",
    "\n",
    "En résumé, Xception est une architecture efficace qui combine la convolution séparable en profondeur avec des raccourcis entre les blocs de convolution, inspirés de ResNet.\n",
    "\n",
    "[Source](https://maelfabien.github.io/deeplearning/xception/)\n"
   ]
  },
  {
   "cell_type": "markdown",
   "metadata": {},
   "source": [
    "![ ](https://www.researchgate.net/publication/351371226/figure/fig2/AS:11431281263342263@1721988503496/Architecture-of-the-Xception-deep-CNN-model.png)\n"
   ]
  },
  {
   "cell_type": "markdown",
   "metadata": {},
   "source": [
    "# Pretraitement des données : "
   ]
  },
  {
   "cell_type": "markdown",
   "metadata": {},
   "source": [
    "## Pourquoi on a grandit les images : \n",
    "Dans le cas de Xception, la taille d'entrée minimale recommandée est de 71x71 pixels, avec trois canaux de couleur (Rouge, Vert, Bleu, ou RGB).\n",
    "\n",
    "\n",
    "- Xception et d'autres modèles CNN ont été conçus avec des couches de convolution, de pooling et d'autres opérations qui ont des contraintes de taille d'entrée.\n",
    "\n",
    "\n",
    "- Les premières couches d'un modèle CNN sont responsables de l'extraction des caractéristiques de l'image. Si l'image est trop petite, certaines caractéristiques importantes peuvent être perdues ou mal interprétées, ce qui peut entraîner une dégradation des performances du modèle.\n",
    "\n",
    "- C'est pourquoi il est généralement recommandé de redimensionner les images d'entrée à une taille minimale de 71x71 pixels (ou plus) avec trois canaux de couleur (RGB) lors de l'entraînement du modèle Xception "
   ]
  },
  {
   "cell_type": "code",
   "execution_count": 10,
   "metadata": {
    "execution": {
     "iopub.execute_input": "2024-05-06T23:53:01.435059Z",
     "iopub.status.busy": "2024-05-06T23:53:01.434431Z",
     "iopub.status.idle": "2024-05-06T23:53:09.820791Z",
     "shell.execute_reply": "2024-05-06T23:53:09.819986Z",
     "shell.execute_reply.started": "2024-05-06T23:53:01.435027Z"
    }
   },
   "outputs": [],
   "source": [
    "resized_images = []\n",
    "\n",
    "for image in X_train : \n",
    "    img = Image.fromarray( image ) \n",
    "    resized_image = img.resize((71, 71))\n",
    "    resized_images.append(np.array(resized_image))\n",
    "    \n",
    "X_train_resized = np.array(resized_images)\n"
   ]
  },
  {
   "cell_type": "code",
   "execution_count": 11,
   "metadata": {
    "execution": {
     "iopub.execute_input": "2024-05-06T23:53:12.145444Z",
     "iopub.status.busy": "2024-05-06T23:53:12.144755Z",
     "iopub.status.idle": "2024-05-06T23:53:13.849239Z",
     "shell.execute_reply": "2024-05-06T23:53:13.848457Z",
     "shell.execute_reply.started": "2024-05-06T23:53:12.145414Z"
    }
   },
   "outputs": [],
   "source": [
    "resized_images_test = []\n",
    "\n",
    "for image in X_test : \n",
    "    img = Image.fromarray( image ) \n",
    "    resized_image = img.resize((71, 71))\n",
    "    resized_images_test.append(np.array(resized_image))\n",
    "    \n",
    "X_test_resized = np.array(resized_images_test)"
   ]
  },
  {
   "cell_type": "markdown",
   "metadata": {},
   "source": [
    "# Normalisation"
   ]
  },
  {
   "cell_type": "code",
   "execution_count": 12,
   "metadata": {
    "execution": {
     "iopub.execute_input": "2024-05-06T23:53:18.084036Z",
     "iopub.status.busy": "2024-05-06T23:53:18.083138Z",
     "iopub.status.idle": "2024-05-06T23:53:19.291977Z",
     "shell.execute_reply": "2024-05-06T23:53:19.291078Z",
     "shell.execute_reply.started": "2024-05-06T23:53:18.083999Z"
    }
   },
   "outputs": [],
   "source": [
    "X_train = X_train_resized.astype('float32') / 255.0\n",
    "X_test =  X_test_resized.astype('float32') / 255.0"
   ]
  },
  {
   "cell_type": "markdown",
   "metadata": {},
   "source": [
    "### Fine tuning : "
   ]
  },
  {
   "cell_type": "markdown",
   "metadata": {},
   "source": [
    "`Definition : `  le \"fine-tuning\" est une technique où l'on ajuste les poids d'un modèle pré-entraîné pour résoudre une tâche spécifique. Plutôt que de former un modèle à partir de zéro, on commence avec un modèle déjà entraîné sur une tâche similaire ou sur un ensemble de données volumineux, puis on ajuste ses paramètres pour qu'il soit adapté à la tâche souhaitée.\n",
    "\n",
    "Le processus de fine-tuning implique généralement de geler certains des premiers couches du modèle (qui contiennent généralement des caractéristiques générales apprises lors de l'entraînement initial) pour éviter de perdre les informations précédemment apprises, puis de ré-entraîner les couches supérieures (ou toutes les couches) avec les nouvelles données spécifiques à la tâche. Cela permet au modèle de s'adapter à la tâche cible tout en préservant les connaissances préalablement acquises."
   ]
  },
  {
   "cell_type": "markdown",
   "metadata": {},
   "source": [
    "## Processus de fine-tuning en transfert Learning : "
   ]
  },
  {
   "cell_type": "markdown",
   "metadata": {},
   "source": [
    "\n",
    "En transfert d'apprentissage, le fine-tuning est une technique essentielle pour adapter un modèle pré-entraîné à une tâche spécifique. Voici les étapes typiques du processus de fine-tuning :\n",
    "\n",
    "1. ** `Choisir un modèle pré-entraîné`**: Sélectionnez un modèle qui a été pré-entraîné sur un ensemble de données volumineux et qui a démontré des performances élevées sur une tâche similaire à celle que vous souhaitez résoudre. Dans notre cas c'est le <strong> `Xception` </strong> \n",
    "\n",
    "\n",
    "\n",
    "2. **`Initialiser le modèle`**: Chargez le modèle pré-entraîné et figez ses premières couches pour empêcher qu'elles ne soient modifiées. Ces premières couches contiennent généralement des caractéristiques générales et abstraites qui sont utiles pour de nombreuses tâches.\n",
    "\n",
    "\n",
    "\n",
    "3. **`Configurer les couches supérieures`**: Définissez les couches supérieures du modèle pour qu'elles correspondent à la tâche spécifique que vous souhaitez résoudre. Cela peut impliquer d'ajouter de nouvelles couches entièrement connectées, de modifier les couches existantes ou de remplacer complètement les couches supérieures.\n",
    "\n",
    "\n",
    "\n",
    "4. **`Ré-entraîner le modèle`**: Entraînez le modèle avec vos propres données spécifiques à la tâche. Vous pouvez ajuster les poids de toutes les couches (ou seulement celles que vous avez configurées), en utilisant une technique d'optimisation comme la descente de gradient stochastique (SGD) avec un faible taux d'apprentissage.\n",
    "\n",
    "\n",
    "\n",
    "5. **`Évaluer les performances`**: Une fois que le fine-tuning est terminé, évaluez les performances du modèle sur un ensemble de données de validation ou de test pour déterminer son efficacité dans la résolution de la tâche souhaitée.\n",
    "\n"
   ]
  },
  {
   "cell_type": "markdown",
   "metadata": {},
   "source": [
    "\n",
    " \n",
    "  \n",
    "   \n",
    "    \n",
    "     \n",
    "     "
   ]
  },
  {
   "cell_type": "markdown",
   "metadata": {},
   "source": [
    " \n",
    "  \n",
    "   \n",
    "    \n",
    "     \n",
    "      \n",
    "       \n",
    "       "
   ]
  },
  {
   "cell_type": "markdown",
   "metadata": {},
   "source": [
    "## Description du code : Construction du modèle CNN avec Keras Tuner\n",
    "\n",
    "Ce code définit une fonction `build_model` qui crée un modèle convolutionnel (CNN) en utilisant Keras Tuner pour l'optimisation des hyperparamètres. Voici une explication détaillée du fonctionnement de cette fonction :\n",
    "\n",
    "- **`base_model`**: Utilisation du modèle Xception pré-entraîné sur l'ensemble de données ImageNet en tant que base. Les poids pré-entraînés sont gelés en définissant `trainable=False`, ce qui signifie que ces couches ne seront pas mises à jour pendant l'entraînement.\n",
    "\n",
    "- **`inputs`**: Définition de la couche d'entrée du modèle avec une taille d'image de 71x71 pixels et trois canaux de couleur (RGB).\n",
    "\n",
    "- **`GlobalAveragePooling2D`**: Réduction des dimensions de l'entrée à une dimension unique en prenant la moyenne des valeurs de chaque canal après les opérations de convolution.\n",
    "\n",
    "- **`Dense`**: Ajout d'une couche entièrement connectée avec un nombre variable d'unités (hyperparamètre `units`), activée par la fonction ReLU.\n",
    "\n",
    "- **`outputs`**: Couche de sortie avec 10 unités activées par la fonction softmax pour effectuer une classification multiclasse (assumant 10 classes dans cet exemple).\n",
    "\n",
    "- **Compilation du modèle**: Utilisation de l'optimiseur sélectionné parmi les options 'adam', 'sgd' et 'rmsprop' (hyperparamètre `optimizer`). La fonction de perte est définie comme la perte d'entropie croisée catégorielle, et la métrique est l'exactitude (accuracy).\n",
    "\n",
    "Une fois que le modèle est construit, il est renvoyé pour être utilisé dans le processus d'optimisation des hyperparamètres avec Keras Tuner.\n",
    "\n",
    "Ce code permet de créer un modèle CNN flexible avec des hyperparamètres optimisables pour des tâches de classification d'images.\n"
   ]
  },
  {
   "cell_type": "code",
   "execution_count": 13,
   "metadata": {
    "execution": {
     "iopub.execute_input": "2024-05-06T23:53:41.739400Z",
     "iopub.status.busy": "2024-05-06T23:53:41.738542Z",
     "iopub.status.idle": "2024-05-06T23:53:41.746188Z",
     "shell.execute_reply": "2024-05-06T23:53:41.745259Z",
     "shell.execute_reply.started": "2024-05-06T23:53:41.739369Z"
    }
   },
   "outputs": [],
   "source": [
    "def build_model(hp):\n",
    "    base_model = Xception(weights='imagenet', include_top=False, input_shape=(71, 71, 3))\n",
    "    base_model.trainable = False  # Gel des couches pré-entraînées\n",
    "\n",
    "    inputs = Input(shape=(71, 71, 3))\n",
    "    x = base_model(inputs, training=False)\n",
    "    x = GlobalAveragePooling2D()(x)\n",
    "    x = Dense(units=hp.Int('units', min_value=32, max_value=512, step=32), activation='relu')(x)\n",
    "    outputs = Dense(10, activation='softmax')(x)\n",
    "    \n",
    "    model = Model(inputs, outputs)\n",
    "    model.compile(\n",
    "        optimizer=hp.Choice('optimizer', values=['adam', 'sgd', 'rmsprop']),\n",
    "        loss='categorical_crossentropy',\n",
    "        metrics=['accuracy'])\n",
    "    return model"
   ]
  },
  {
   "cell_type": "code",
   "execution_count": 69,
   "metadata": {
    "execution": {
     "iopub.execute_input": "2024-05-06T21:22:51.837914Z",
     "iopub.status.busy": "2024-05-06T21:22:51.837443Z",
     "iopub.status.idle": "2024-05-06T21:22:51.843770Z",
     "shell.execute_reply": "2024-05-06T21:22:51.842932Z",
     "shell.execute_reply.started": "2024-05-06T21:22:51.837879Z"
    }
   },
   "outputs": [],
   "source": [
    "# from keras_tuner\n",
    "# .tuners import RandomSearch\n",
    "# from tensorflow.keras.applications import Xception"
   ]
  },
  {
   "cell_type": "markdown",
   "metadata": {},
   "source": [
    "##  Random Search avec Keras Tuner\n",
    "\n",
    "Ce code utilise Keras Tuner pour effectuer une recherche aléatoire d'hyperparamètres afin d'optimiser un modèle CNN pour la classification d'images sur l'ensemble de données CIFAR-10. Voici une explication détaillée du fonctionnement de ce code :\n",
    "\n",
    "- **`start_time`**: Enregistre le temps de début de l'opération de recherche aléatoire d'hyperparamètres.\n",
    "\n",
    "- **`tuner`**: Initialise un objet de recherche aléatoire (`RandomSearch`) en spécifiant la fonction de création de modèle (`build_model`) à optimiser, l'objectif de l'optimisation (ici, la précision sur l'ensemble de validation `'val_accuracy'`), le nombre maximal de tentatives (`max_trials`), le nombre d'exécutions par tentative (`executions_per_trial`), le répertoire de sauvegarde pour les résultats (`directory`), et le nom du projet (`project_name`).\n",
    "\n",
    "- **`end_time`**: Enregistre le temps de fin de l'opération de recherche aléatoire d'hyperparamètres.\n",
    "\n",
    "- **`training_time`**: Calcule la durée totale de l'opération de recherche aléatoire d'hyperparamètres en soustrayant le temps de début du temps de fin.\n",
    "\n",
    "- **`print()`**: Affiche le temps total de l'opération de recherche aléatoire d'hyperparamètres.\n",
    "\n",
    "Ce code permet de lancer une recherche aléatoire d'hyperparamètres pour optimiser un modèle CNN sur l'ensemble de données CIFAR-10. La durée totale de cette opération est également affichée à des fins de suivi.\n"
   ]
  },
  {
   "cell_type": "code",
   "execution_count": 14,
   "metadata": {
    "execution": {
     "iopub.execute_input": "2024-05-06T23:53:55.623921Z",
     "iopub.status.busy": "2024-05-06T23:53:55.623128Z",
     "iopub.status.idle": "2024-05-06T23:53:58.295739Z",
     "shell.execute_reply": "2024-05-06T23:53:58.294801Z",
     "shell.execute_reply.started": "2024-05-06T23:53:55.623888Z"
    }
   },
   "outputs": [
    {
     "name": "stdout",
     "output_type": "stream",
     "text": [
      "Downloading data from https://storage.googleapis.com/tensorflow/keras-applications/xception/xception_weights_tf_dim_ordering_tf_kernels_notop.h5\n",
      "\u001b[1m83683744/83683744\u001b[0m \u001b[32m━━━━━━━━━━━━━━━━━━━━\u001b[0m\u001b[37m\u001b[0m \u001b[1m1s\u001b[0m 0us/step\n",
      "Random search time: 2.6666922569274902\n"
     ]
    }
   ],
   "source": [
    "start_time = time.time()\n",
    "tuner = RandomSearch(\n",
    "    build_model,\n",
    "    objective='val_accuracy',\n",
    "    max_trials=10,\n",
    "    executions_per_trial=1,\n",
    "    directory='my_dir',\n",
    "    project_name='cifar10_xception',\n",
    ")\n",
    "end_time = time.time()\n",
    "training_time = end_time-start_time\n",
    "print(\"Random search time:\", training_time)"
   ]
  },
  {
   "cell_type": "markdown",
   "metadata": {},
   "source": [
    "## Recherche des hyperparamètres avec Keras Tuner\n",
    "\n",
    "Ce code utilise Keras Tuner pour rechercher les meilleurs hyperparamètres pour le modèle CNN construit précédemment. Voici une explication détaillée :\n",
    "\n",
    "- **`start_time`**: Enregistrement du temps de début de la recherche d'hyperparamètres à l'aide de la fonction `time.time()`.\n",
    "\n",
    "- **`tuner.search(X_train, y_train, epochs=10, validation_data=(X_test,y_test))`**: Lancement de la recherche d'hyperparamètres à l'aide de la méthode `search` du tuner. Cette méthode prend les données d'entraînement (`X_train`, `y_train`) et les données de validation (`X_test`, `y_test`) pour évaluer les performances du modèle à chaque combinaison d'hyperparamètres. L'argument `epochs=10` spécifie le nombre d'époques d'entraînement pour chaque essai d'hyperparamètres.\n",
    "\n",
    "- **`end_time`**: Enregistrement du temps de fin de la recherche d'hyperparamètres à l'aide de la fonction `time.time()`.\n",
    "\n",
    "- **`search_time`**: Calcul de la durée totale de la recherche d'hyperparamètres en soustrayant le temps de fin (`end_time`) du temps de début (`start_time`).\n",
    "\n",
    "- **`print(\"Random search time:\", search_time)`**: Affichage du temps total de recherche d'hyperparamètres.\n",
    "\n",
    "Cette partie du code permet de lancer la recherche d'hyperparamètres avec Keras Tuner pendant un certain nombre d'époques spécifié, puis de calculer et d'afficher le temps total de recherche. Une fois que la recherche est terminée, le modèle avec les meilleurs hyperparamètres trouvés peut être utilisé pour l'entraînement final sur l'ensemble des données d'entraînement.\n"
   ]
  },
  {
   "cell_type": "code",
   "execution_count": 15,
   "metadata": {
    "execution": {
     "iopub.execute_input": "2024-05-06T23:54:39.888895Z",
     "iopub.status.busy": "2024-05-06T23:54:39.888519Z",
     "iopub.status.idle": "2024-05-07T01:03:42.369054Z",
     "shell.execute_reply": "2024-05-07T01:03:42.368090Z",
     "shell.execute_reply.started": "2024-05-06T23:54:39.888863Z"
    }
   },
   "outputs": [
    {
     "name": "stdout",
     "output_type": "stream",
     "text": [
      "Trial 10 Complete [00h 06m 46s]\n",
      "val_accuracy: 0.7286999821662903\n",
      "\n",
      "Best val_accuracy So Far: 0.7402999997138977\n",
      "Total elapsed time: 01h 09m 02s\n",
      "Random search time: 4142.475505113602\n"
     ]
    }
   ],
   "source": [
    "start_time = time.time()\n",
    "tuner.search(X_train, y_train, epochs=15, validation_data=(X_test,y_test))\n",
    "end_time = time.time()\n",
    "search_time = end_time - start_time\n",
    "print(\"Random search time:\", search_time)"
   ]
  },
  {
   "cell_type": "code",
   "execution_count": 16,
   "metadata": {
    "execution": {
     "iopub.execute_input": "2024-05-07T01:05:16.694641Z",
     "iopub.status.busy": "2024-05-07T01:05:16.694273Z",
     "iopub.status.idle": "2024-05-07T01:05:16.700083Z",
     "shell.execute_reply": "2024-05-07T01:05:16.699126Z",
     "shell.execute_reply.started": "2024-05-07T01:05:16.694611Z"
    }
   },
   "outputs": [
    {
     "name": "stdout",
     "output_type": "stream",
     "text": [
      "Random search time: 69.04125841856003  minutes \n"
     ]
    }
   ],
   "source": [
    "print(\"Random search time:\", search_time/60 ,' minutes ')"
   ]
  },
  {
   "cell_type": "code",
   "execution_count": 17,
   "metadata": {
    "execution": {
     "iopub.execute_input": "2024-05-07T01:05:22.958697Z",
     "iopub.status.busy": "2024-05-07T01:05:22.958080Z",
     "iopub.status.idle": "2024-05-07T01:05:22.962751Z",
     "shell.execute_reply": "2024-05-07T01:05:22.961712Z",
     "shell.execute_reply.started": "2024-05-07T01:05:22.958665Z"
    }
   },
   "outputs": [],
   "source": [
    "best_hps = tuner.get_best_hyperparameters(num_trials=1)[0]"
   ]
  },
  {
   "cell_type": "code",
   "execution_count": 18,
   "metadata": {
    "execution": {
     "iopub.execute_input": "2024-05-07T01:05:23.894044Z",
     "iopub.status.busy": "2024-05-07T01:05:23.893391Z",
     "iopub.status.idle": "2024-05-07T01:05:23.898824Z",
     "shell.execute_reply": "2024-05-07T01:05:23.897898Z",
     "shell.execute_reply.started": "2024-05-07T01:05:23.894013Z"
    }
   },
   "outputs": [
    {
     "name": "stdout",
     "output_type": "stream",
     "text": [
      "Best Hyperparameters:\n",
      "Units: 256\n",
      "Optimizer: sgd\n"
     ]
    }
   ],
   "source": [
    "print(\"Best Hyperparameters:\")\n",
    "print(f\"Units: {best_hps.get('units')}\")\n",
    "print(f\"Optimizer: {best_hps.get('optimizer')}\")"
   ]
  },
  {
   "cell_type": "code",
   "execution_count": 19,
   "metadata": {
    "execution": {
     "iopub.execute_input": "2024-05-07T01:05:51.607606Z",
     "iopub.status.busy": "2024-05-07T01:05:51.606911Z",
     "iopub.status.idle": "2024-05-07T01:17:04.242644Z",
     "shell.execute_reply": "2024-05-07T01:17:04.241580Z",
     "shell.execute_reply.started": "2024-05-07T01:05:51.607572Z"
    }
   },
   "outputs": [
    {
     "name": "stdout",
     "output_type": "stream",
     "text": [
      "Epoch 1/30\n",
      "\u001b[1m1329/1329\u001b[0m \u001b[32m━━━━━━━━━━━━━━━━━━━━\u001b[0m\u001b[37m\u001b[0m \u001b[1m38s\u001b[0m 24ms/step - accuracy: 0.5706 - loss: 1.3226 - val_accuracy: 0.6964 - val_loss: 0.9213\n",
      "Epoch 2/30\n",
      "\u001b[1m1329/1329\u001b[0m \u001b[32m━━━━━━━━━━━━━━━━━━━━\u001b[0m\u001b[37m\u001b[0m \u001b[1m21s\u001b[0m 16ms/step - accuracy: 0.7119 - loss: 0.8803 - val_accuracy: 0.7035 - val_loss: 0.9060\n",
      "Epoch 3/30\n",
      "\u001b[1m1329/1329\u001b[0m \u001b[32m━━━━━━━━━━━━━━━━━━━━\u001b[0m\u001b[37m\u001b[0m \u001b[1m21s\u001b[0m 16ms/step - accuracy: 0.7423 - loss: 0.7946 - val_accuracy: 0.7213 - val_loss: 0.8455\n",
      "Epoch 4/30\n",
      "\u001b[1m1329/1329\u001b[0m \u001b[32m━━━━━━━━━━━━━━━━━━━━\u001b[0m\u001b[37m\u001b[0m \u001b[1m21s\u001b[0m 16ms/step - accuracy: 0.7581 - loss: 0.7401 - val_accuracy: 0.7040 - val_loss: 0.8969\n",
      "Epoch 5/30\n",
      "\u001b[1m1329/1329\u001b[0m \u001b[32m━━━━━━━━━━━━━━━━━━━━\u001b[0m\u001b[37m\u001b[0m \u001b[1m21s\u001b[0m 16ms/step - accuracy: 0.7675 - loss: 0.7051 - val_accuracy: 0.7136 - val_loss: 0.8613\n",
      "Epoch 6/30\n",
      "\u001b[1m1329/1329\u001b[0m \u001b[32m━━━━━━━━━━━━━━━━━━━━\u001b[0m\u001b[37m\u001b[0m \u001b[1m21s\u001b[0m 16ms/step - accuracy: 0.7797 - loss: 0.6663 - val_accuracy: 0.7207 - val_loss: 0.8383\n",
      "Epoch 7/30\n",
      "\u001b[1m1329/1329\u001b[0m \u001b[32m━━━━━━━━━━━━━━━━━━━━\u001b[0m\u001b[37m\u001b[0m \u001b[1m41s\u001b[0m 16ms/step - accuracy: 0.7853 - loss: 0.6402 - val_accuracy: 0.7391 - val_loss: 0.7956\n",
      "Epoch 8/30\n",
      "\u001b[1m1329/1329\u001b[0m \u001b[32m━━━━━━━━━━━━━━━━━━━━\u001b[0m\u001b[37m\u001b[0m \u001b[1m21s\u001b[0m 16ms/step - accuracy: 0.8009 - loss: 0.5989 - val_accuracy: 0.7227 - val_loss: 0.8528\n",
      "Epoch 9/30\n",
      "\u001b[1m1329/1329\u001b[0m \u001b[32m━━━━━━━━━━━━━━━━━━━━\u001b[0m\u001b[37m\u001b[0m \u001b[1m21s\u001b[0m 16ms/step - accuracy: 0.8040 - loss: 0.5846 - val_accuracy: 0.7375 - val_loss: 0.7935\n",
      "Epoch 10/30\n",
      "\u001b[1m1329/1329\u001b[0m \u001b[32m━━━━━━━━━━━━━━━━━━━━\u001b[0m\u001b[37m\u001b[0m \u001b[1m21s\u001b[0m 16ms/step - accuracy: 0.8178 - loss: 0.5443 - val_accuracy: 0.7363 - val_loss: 0.8108\n",
      "Epoch 11/30\n",
      "\u001b[1m1329/1329\u001b[0m \u001b[32m━━━━━━━━━━━━━━━━━━━━\u001b[0m\u001b[37m\u001b[0m \u001b[1m21s\u001b[0m 16ms/step - accuracy: 0.8238 - loss: 0.5261 - val_accuracy: 0.7356 - val_loss: 0.8037\n",
      "Epoch 12/30\n",
      "\u001b[1m1329/1329\u001b[0m \u001b[32m━━━━━━━━━━━━━━━━━━━━\u001b[0m\u001b[37m\u001b[0m \u001b[1m21s\u001b[0m 16ms/step - accuracy: 0.8329 - loss: 0.5010 - val_accuracy: 0.7312 - val_loss: 0.8215\n",
      "Epoch 13/30\n",
      "\u001b[1m1329/1329\u001b[0m \u001b[32m━━━━━━━━━━━━━━━━━━━━\u001b[0m\u001b[37m\u001b[0m \u001b[1m21s\u001b[0m 16ms/step - accuracy: 0.8393 - loss: 0.4816 - val_accuracy: 0.7379 - val_loss: 0.8125\n",
      "Epoch 14/30\n",
      "\u001b[1m1329/1329\u001b[0m \u001b[32m━━━━━━━━━━━━━━━━━━━━\u001b[0m\u001b[37m\u001b[0m \u001b[1m21s\u001b[0m 16ms/step - accuracy: 0.8480 - loss: 0.4610 - val_accuracy: 0.7363 - val_loss: 0.8286\n",
      "Epoch 15/30\n",
      "\u001b[1m1329/1329\u001b[0m \u001b[32m━━━━━━━━━━━━━━━━━━━━\u001b[0m\u001b[37m\u001b[0m \u001b[1m21s\u001b[0m 16ms/step - accuracy: 0.8590 - loss: 0.4376 - val_accuracy: 0.7301 - val_loss: 0.8500\n",
      "Epoch 16/30\n",
      "\u001b[1m1329/1329\u001b[0m \u001b[32m━━━━━━━━━━━━━━━━━━━━\u001b[0m\u001b[37m\u001b[0m \u001b[1m21s\u001b[0m 16ms/step - accuracy: 0.8640 - loss: 0.4225 - val_accuracy: 0.7328 - val_loss: 0.8361\n",
      "Epoch 17/30\n",
      "\u001b[1m1329/1329\u001b[0m \u001b[32m━━━━━━━━━━━━━━━━━━━━\u001b[0m\u001b[37m\u001b[0m \u001b[1m21s\u001b[0m 16ms/step - accuracy: 0.8719 - loss: 0.3997 - val_accuracy: 0.7323 - val_loss: 0.8459\n",
      "Epoch 18/30\n",
      "\u001b[1m1329/1329\u001b[0m \u001b[32m━━━━━━━━━━━━━━━━━━━━\u001b[0m\u001b[37m\u001b[0m \u001b[1m21s\u001b[0m 16ms/step - accuracy: 0.8753 - loss: 0.3881 - val_accuracy: 0.7372 - val_loss: 0.8461\n",
      "Epoch 19/30\n",
      "\u001b[1m1329/1329\u001b[0m \u001b[32m━━━━━━━━━━━━━━━━━━━━\u001b[0m\u001b[37m\u001b[0m \u001b[1m21s\u001b[0m 16ms/step - accuracy: 0.8867 - loss: 0.3663 - val_accuracy: 0.7379 - val_loss: 0.8468\n",
      "Epoch 20/30\n",
      "\u001b[1m1329/1329\u001b[0m \u001b[32m━━━━━━━━━━━━━━━━━━━━\u001b[0m\u001b[37m\u001b[0m \u001b[1m21s\u001b[0m 16ms/step - accuracy: 0.8938 - loss: 0.3454 - val_accuracy: 0.7372 - val_loss: 0.8540\n",
      "Epoch 21/30\n",
      "\u001b[1m1329/1329\u001b[0m \u001b[32m━━━━━━━━━━━━━━━━━━━━\u001b[0m\u001b[37m\u001b[0m \u001b[1m21s\u001b[0m 16ms/step - accuracy: 0.9021 - loss: 0.3300 - val_accuracy: 0.7363 - val_loss: 0.8590\n",
      "Epoch 22/30\n",
      "\u001b[1m1329/1329\u001b[0m \u001b[32m━━━━━━━━━━━━━━━━━━━━\u001b[0m\u001b[37m\u001b[0m \u001b[1m21s\u001b[0m 16ms/step - accuracy: 0.9051 - loss: 0.3215 - val_accuracy: 0.7403 - val_loss: 0.8602\n",
      "Epoch 23/30\n",
      "\u001b[1m1329/1329\u001b[0m \u001b[32m━━━━━━━━━━━━━━━━━━━━\u001b[0m\u001b[37m\u001b[0m \u001b[1m21s\u001b[0m 16ms/step - accuracy: 0.9124 - loss: 0.3010 - val_accuracy: 0.7397 - val_loss: 0.8744\n",
      "Epoch 24/30\n",
      "\u001b[1m1329/1329\u001b[0m \u001b[32m━━━━━━━━━━━━━━━━━━━━\u001b[0m\u001b[37m\u001b[0m \u001b[1m21s\u001b[0m 16ms/step - accuracy: 0.9182 - loss: 0.2891 - val_accuracy: 0.7349 - val_loss: 0.8968\n",
      "Epoch 25/30\n",
      "\u001b[1m1329/1329\u001b[0m \u001b[32m━━━━━━━━━━━━━━━━━━━━\u001b[0m\u001b[37m\u001b[0m \u001b[1m21s\u001b[0m 16ms/step - accuracy: 0.9231 - loss: 0.2776 - val_accuracy: 0.6693 - val_loss: 1.3017\n",
      "Epoch 26/30\n",
      "\u001b[1m1329/1329\u001b[0m \u001b[32m━━━━━━━━━━━━━━━━━━━━\u001b[0m\u001b[37m\u001b[0m \u001b[1m21s\u001b[0m 16ms/step - accuracy: 0.9259 - loss: 0.2705 - val_accuracy: 0.7357 - val_loss: 0.9012\n",
      "Epoch 27/30\n",
      "\u001b[1m1329/1329\u001b[0m \u001b[32m━━━━━━━━━━━━━━━━━━━━\u001b[0m\u001b[37m\u001b[0m \u001b[1m21s\u001b[0m 16ms/step - accuracy: 0.9333 - loss: 0.2517 - val_accuracy: 0.7247 - val_loss: 0.9609\n",
      "Epoch 28/30\n",
      "\u001b[1m1329/1329\u001b[0m \u001b[32m━━━━━━━━━━━━━━━━━━━━\u001b[0m\u001b[37m\u001b[0m \u001b[1m21s\u001b[0m 16ms/step - accuracy: 0.9348 - loss: 0.2442 - val_accuracy: 0.7383 - val_loss: 0.9210\n",
      "Epoch 29/30\n",
      "\u001b[1m1329/1329\u001b[0m \u001b[32m━━━━━━━━━━━━━━━━━━━━\u001b[0m\u001b[37m\u001b[0m \u001b[1m21s\u001b[0m 16ms/step - accuracy: 0.9406 - loss: 0.2260 - val_accuracy: 0.7315 - val_loss: 0.9441\n",
      "Epoch 30/30\n",
      "\u001b[1m1329/1329\u001b[0m \u001b[32m━━━━━━━━━━━━━━━━━━━━\u001b[0m\u001b[37m\u001b[0m \u001b[1m21s\u001b[0m 16ms/step - accuracy: 0.9428 - loss: 0.2186 - val_accuracy: 0.7375 - val_loss: 0.9381\n",
      "Training time: 672.6296815872192\n"
     ]
    }
   ],
   "source": [
    "start_time = time.time()\n",
    "model = tuner.hypermodel.build(best_hps)\n",
    "history00  = model.fit(X_train, y_train, epochs=30, validation_split=0.15)\n",
    "end_time = time.time()\n",
    "training_time = end_time-start_time\n",
    "print(\"Training time:\", training_time)"
   ]
  },
  {
   "cell_type": "code",
   "execution_count": 20,
   "metadata": {
    "execution": {
     "iopub.execute_input": "2024-05-07T01:17:15.849512Z",
     "iopub.status.busy": "2024-05-07T01:17:15.848775Z",
     "iopub.status.idle": "2024-05-07T01:17:16.336968Z",
     "shell.execute_reply": "2024-05-07T01:17:16.336035Z",
     "shell.execute_reply.started": "2024-05-07T01:17:15.849477Z"
    }
   },
   "outputs": [
    {
     "data": {
      "image/png": "[encoded data removed]",
      "text/plain": [
       "<Figure size 1400x500 with 2 Axes>"
      ]
     },
     "metadata": {},
     "output_type": "display_data"
    }
   ],
   "source": [
    "plt.figure(figsize=(14, 5))\n",
    "plt.subplot(1, 2, 1)\n",
    "plt.plot(history00.history['loss'], label='Loss')\n",
    "plt.plot(history00.history['val_loss'], label='Val Loss')\n",
    "plt.title('Loss Evolution')\n",
    "plt.legend()\n",
    "\n",
    "plt.subplot(1, 2, 2)\n",
    "plt.plot(history00.history['accuracy'], label='Accuracy')\n",
    "plt.plot(history00.history['val_accuracy'], label='Val Accuracy')\n",
    "plt.title('Accuracy Evolution')\n",
    "plt.legend()\n",
    "plt.show()"
   ]
  },
  {
   "cell_type": "markdown",
   "metadata": {},
   "source": [
    "## Précision Top-1 et Top-5 \n",
    "\n",
    "- **Précision Top-1** : La précision top-1 représente le pourcentage d'images pour lesquelles le modèle a correctement prédit la classe correcte comme la première prédiction. En d'autres termes, sur un ensemble d'images donné, la précision top-1 mesure la proportion d'images pour lesquelles le modèle a fait la bonne prédiction en tant que première prédiction. Par exemple, si vous avez 100 images et que le modèle a correctement prédit la classe correcte pour 70 d'entre elles en tant que première prédiction, alors la précision top-1 est de 70%.\n",
    "\n",
    "- **Précision Top-5** : La précision top-5 représente le pourcentage d'images pour lesquelles la classe correcte est parmi les cinq premières prédictions du modèle. Cela signifie que pour chaque image, le modèle génère cinq prédictions, et si la classe correcte est parmi ces cinq prédictions, alors cette prédiction est considérée comme correcte pour la précision top-5. Par exemple, si pour une image donnée, la classe correcte est l'une des cinq classes les plus probables prédites par le modèle, alors cette prédiction est considérée comme correcte pour la précision top-5.\n",
    "\n",
    "Ces métriques sont largement utilisées pour évaluer les performances des modèles de classification d'images. La précision top-1 mesure la capacité du modèle à faire la bonne prédiction en tant que première prédiction, tandis que la précision top-5 mesure sa capacité à identifier la classe correcte même si elle n'est pas la prédiction la plus probable. Cela permet d'avoir une évaluation plus nuancée des performances du modèle, en tenant compte de différentes situations de prédiction.\n"
   ]
  },
  {
   "cell_type": "code",
   "execution_count": 21,
   "metadata": {
    "execution": {
     "iopub.execute_input": "2024-05-07T01:17:34.185396Z",
     "iopub.status.busy": "2024-05-07T01:17:34.184768Z",
     "iopub.status.idle": "2024-05-07T01:17:45.630422Z",
     "shell.execute_reply": "2024-05-07T01:17:45.629437Z",
     "shell.execute_reply.started": "2024-05-07T01:17:34.185365Z"
    }
   },
   "outputs": [
    {
     "name": "stdout",
     "output_type": "stream",
     "text": [
      "\u001b[1m313/313\u001b[0m \u001b[32m━━━━━━━━━━━━━━━━━━━━\u001b[0m\u001b[37m\u001b[0m \u001b[1m10s\u001b[0m 20ms/step\n",
      "Précision Top-1 : 0.7335\n",
      "Précision Top-5 : 0.9767\n"
     ]
    }
   ],
   "source": [
    "y_pred = model.predict(X_test)\n",
    "\n",
    "# Calculer la précision top-1\n",
    "top1_accuracy = np.mean(np.argmax(y_pred, axis=1) == np.argmax(y_test, axis=1))\n",
    "\n",
    "# Trier les prédictions pour chaque échantillon et obtenir les cinq classes les plus probables\n",
    "top5_predictions = np.argsort(y_pred, axis=1)[:, -5:]\n",
    "\n",
    "# Vérifier si la vraie classe est parmi les cinq premières prédictions pour chaque échantillon\n",
    "top5_accuracy = np.mean([1 if np.argmax(y_test[i]) in top5_predictions[i] else 0 for i in range(len(y_test))])\n",
    "\n",
    "print(f\"Précision Top-1 : {top1_accuracy}\")\n",
    "print(f\"Précision Top-5 : {top5_accuracy}\")"
   ]
  },
  {
   "cell_type": "markdown",
   "metadata": {},
   "source": [
    "## objectif non attient pour la top-1 accurcy : \n",
    "Pour le top-1 accuracy achever par le model Xeption est : 79% pourtant que notre est : `73%` , c'est a dire q'on la pas encore depasser , Cependant, notre modèle actuel n'a pas encore atteint ce niveau de performance, ce qui signifie que nous n'avons pas encore dépassé ce seuil. Dans ce cas, il serait judicieux d'envisager l'utilisation de techniques d'augmentation de données pour améliorer les performances de notre modèle.pourra opter pour une data augmentaton, regularisation ou dropout ..."
   ]
  },
  {
   "cell_type": "markdown",
   "metadata": {},
   "source": [
    "## objectif attient pour Top-5 : accuracy \n",
    "Pour le top-5 accuracy achever doner par le model Xeption est : 92% pourtant que notre est 97 % : c'est a dire que on battu ce score  deja depasser !! "
   ]
  },
  {
   "cell_type": "markdown",
   "metadata": {},
   "source": [
    "# Sauvgardons notre modele : "
   ]
  },
  {
   "cell_type": "code",
   "execution_count": 24,
   "metadata": {
    "execution": {
     "iopub.execute_input": "2024-05-07T01:22:08.002276Z",
     "iopub.status.busy": "2024-05-07T01:22:08.001602Z",
     "iopub.status.idle": "2024-05-07T01:22:08.006288Z",
     "shell.execute_reply": "2024-05-07T01:22:08.005385Z",
     "shell.execute_reply.started": "2024-05-07T01:22:08.002241Z"
    }
   },
   "outputs": [],
   "source": [
    "model.save('/kaggle/working/my_model00.h5')"
   ]
  },
  {
   "cell_type": "markdown",
   "metadata": {},
   "source": [
    " \n",
    "  \n",
    "   \n",
    "   \n",
    "     \n",
    "     "
   ]
  },
  {
   "cell_type": "markdown",
   "metadata": {},
   "source": [
    "# Approche 2 : data augmentation"
   ]
  },
  {
   "cell_type": "markdown",
   "metadata": {},
   "source": [
    "## Augmentation des données d'images avec ImageDataGenerator\n",
    "\n",
    "Ce code utilise la classe `ImageDataGenerator` de TensorFlow Keras pour augmenter les données d'images. Voici une explication détaillée des paramètres de l'augmenteur :\n",
    "\n",
    "- **`rotation_range=20`**: Rotation aléatoire des images dans la plage de -20 degrés à +20 degrés.\n",
    "\n",
    "- **`zoom_range=0.15`**: Zoom aléatoire des images jusqu'à 15%.\n",
    "\n",
    "- **`width_shift_range=0.2`**: Déplacement horizontal aléatoire des images jusqu'à 20% de leur largeur.\n",
    "\n",
    "- **`height_shift_range=0.2`**: Déplacement vertical aléatoire des images jusqu'à 20% de leur hauteur.\n",
    "\n",
    "- **`shear_range=0.15`**: Déformation cisaillée aléatoire des images jusqu'à 15%.\n",
    "\n",
    "- **`horizontal_flip=True`**: Retournement horizontal aléatoire des images.\n",
    "\n",
    "- **`fill_mode=\"nearest\"`**: Mode de remplissage utilisé pour combler les pixels nouvellement créés, qui est \"nearest\" (remplissage avec la valeur du pixel le plus proche).\n",
    "\n",
    "Ces transformations sont appliquées de manière aléatoire à chaque image d'entraînement pendant l'apprentissage, ce qui augmente la diversité des données et aide à améliorer la robustesse et la généralisation du modèle. L'augmentation des données est une technique efficace pour lutter contre le surajustement et améliorer les performances du modèle, en particulier lorsqu'il y a un nombre limité de données d'entraînement disponibles.\n"
   ]
  },
  {
   "cell_type": "code",
   "execution_count": 93,
   "metadata": {
    "execution": {
     "iopub.execute_input": "2024-05-06T22:50:09.251691Z",
     "iopub.status.busy": "2024-05-06T22:50:09.250811Z",
     "iopub.status.idle": "2024-05-06T22:50:09.256803Z",
     "shell.execute_reply": "2024-05-06T22:50:09.255777Z",
     "shell.execute_reply.started": "2024-05-06T22:50:09.251659Z"
    }
   },
   "outputs": [],
   "source": [
    "from tensorflow.keras.preprocessing.image import ImageDataGenerator\n",
    "\n",
    "augmenter = ImageDataGenerator(\n",
    "    rotation_range=20,\n",
    "    zoom_range=0.15,\n",
    "    width_shift_range=0.2,\n",
    "    height_shift_range=0.2,\n",
    "    shear_range=0.15,\n",
    "    horizontal_flip=True,\n",
    "    fill_mode=\"nearest\"\n",
    ")\n"
   ]
  },
  {
   "cell_type": "code",
   "execution_count": 94,
   "metadata": {
    "execution": {
     "iopub.execute_input": "2024-05-06T22:50:13.018227Z",
     "iopub.status.busy": "2024-05-06T22:50:13.017850Z",
     "iopub.status.idle": "2024-05-06T23:34:28.497716Z",
     "shell.execute_reply": "2024-05-06T23:34:28.496755Z",
     "shell.execute_reply.started": "2024-05-06T22:50:13.018198Z"
    }
   },
   "outputs": [
    {
     "name": "stdout",
     "output_type": "stream",
     "text": [
      "Epoch 1/30\n"
     ]
    },
    {
     "name": "stderr",
     "output_type": "stream",
     "text": [
      "/opt/conda/lib/python3.10/site-packages/keras/src/trainers/data_adapters/py_dataset_adapter.py:120: UserWarning: Your `PyDataset` class should call `super().__init__(**kwargs)` in its constructor. `**kwargs` can include `workers`, `use_multiprocessing`, `max_queue_size`. Do not pass these arguments to `fit()`, as they will be ignored.\n",
      "  self._warn_if_super_not_called()\n"
     ]
    },
    {
     "name": "stdout",
     "output_type": "stream",
     "text": [
      "\u001b[1m1563/1563\u001b[0m \u001b[32m━━━━━━━━━━━━━━━━━━━━\u001b[0m\u001b[37m\u001b[0m \u001b[1m103s\u001b[0m 62ms/step - accuracy: 0.5150 - loss: 1.4406 - val_accuracy: 0.6734 - val_loss: 1.0102\n",
      "Epoch 2/30\n",
      "\u001b[1m1563/1563\u001b[0m \u001b[32m━━━━━━━━━━━━━━━━━━━━\u001b[0m\u001b[37m\u001b[0m \u001b[1m88s\u001b[0m 56ms/step - accuracy: 0.6373 - loss: 1.0736 - val_accuracy: 0.6974 - val_loss: 0.9295\n",
      "Epoch 3/30\n",
      "\u001b[1m1563/1563\u001b[0m \u001b[32m━━━━━━━━━━━━━━━━━━━━\u001b[0m\u001b[37m\u001b[0m \u001b[1m88s\u001b[0m 56ms/step - accuracy: 0.6653 - loss: 0.9853 - val_accuracy: 0.7077 - val_loss: 0.8777\n",
      "Epoch 5/30\n",
      "\u001b[1m1563/1563\u001b[0m \u001b[32m━━━━━━━━━━━━━━━━━━━━\u001b[0m\u001b[37m\u001b[0m \u001b[1m88s\u001b[0m 56ms/step - accuracy: 0.6739 - loss: 0.9519 - val_accuracy: 0.7132 - val_loss: 0.8630\n",
      "Epoch 6/30\n",
      "\u001b[1m1563/1563\u001b[0m \u001b[32m━━━━━━━━━━━━━━━━━━━━\u001b[0m\u001b[37m\u001b[0m \u001b[1m87s\u001b[0m 56ms/step - accuracy: 0.6812 - loss: 0.9295 - val_accuracy: 0.7183 - val_loss: 0.8386\n",
      "Epoch 7/30\n",
      "\u001b[1m1563/1563\u001b[0m \u001b[32m━━━━━━━━━━━━━━━━━━━━\u001b[0m\u001b[37m\u001b[0m \u001b[1m88s\u001b[0m 56ms/step - accuracy: 0.6858 - loss: 0.9175 - val_accuracy: 0.7159 - val_loss: 0.8359\n",
      "Epoch 8/30\n",
      "\u001b[1m1563/1563\u001b[0m \u001b[32m━━━━━━━━━━━━━━━━━━━━\u001b[0m\u001b[37m\u001b[0m \u001b[1m88s\u001b[0m 56ms/step - accuracy: 0.6878 - loss: 0.9036 - val_accuracy: 0.7156 - val_loss: 0.8321\n",
      "Epoch 9/30\n",
      "\u001b[1m1563/1563\u001b[0m \u001b[32m━━━━━━━━━━━━━━━━━━━━\u001b[0m\u001b[37m\u001b[0m \u001b[1m87s\u001b[0m 56ms/step - accuracy: 0.6941 - loss: 0.8875 - val_accuracy: 0.7235 - val_loss: 0.8149\n",
      "Epoch 10/30\n",
      "\u001b[1m1563/1563\u001b[0m \u001b[32m━━━━━━━━━━━━━━━━━━━━\u001b[0m\u001b[37m\u001b[0m \u001b[1m88s\u001b[0m 56ms/step - accuracy: 0.6950 - loss: 0.8784 - val_accuracy: 0.7222 - val_loss: 0.8066\n",
      "Epoch 11/30\n",
      "\u001b[1m1563/1563\u001b[0m \u001b[32m━━━━━━━━━━━━━━━━━━━━\u001b[0m\u001b[37m\u001b[0m \u001b[1m89s\u001b[0m 57ms/step - accuracy: 0.6995 - loss: 0.8618 - val_accuracy: 0.7257 - val_loss: 0.7983\n",
      "Epoch 12/30\n",
      "\u001b[1m1563/1563\u001b[0m \u001b[32m━━━━━━━━━━━━━━━━━━━━\u001b[0m\u001b[37m\u001b[0m \u001b[1m88s\u001b[0m 56ms/step - accuracy: 0.7024 - loss: 0.8626 - val_accuracy: 0.7337 - val_loss: 0.7896\n",
      "Epoch 13/30\n",
      "\u001b[1m1563/1563\u001b[0m \u001b[32m━━━━━━━━━━━━━━━━━━━━\u001b[0m\u001b[37m\u001b[0m \u001b[1m88s\u001b[0m 56ms/step - accuracy: 0.7027 - loss: 0.8556 - val_accuracy: 0.7329 - val_loss: 0.7842\n",
      "Epoch 14/30\n",
      "\u001b[1m1563/1563\u001b[0m \u001b[32m━━━━━━━━━━━━━━━━━━━━\u001b[0m\u001b[37m\u001b[0m \u001b[1m88s\u001b[0m 56ms/step - accuracy: 0.7066 - loss: 0.8434 - val_accuracy: 0.7249 - val_loss: 0.8045\n",
      "Epoch 15/30\n",
      "\u001b[1m1563/1563\u001b[0m \u001b[32m━━━━━━━━━━━━━━━━━━━━\u001b[0m\u001b[37m\u001b[0m \u001b[1m88s\u001b[0m 56ms/step - accuracy: 0.7120 - loss: 0.8357 - val_accuracy: 0.7370 - val_loss: 0.7777\n",
      "Epoch 16/30\n",
      "\u001b[1m1563/1563\u001b[0m \u001b[32m━━━━━━━━━━━━━━━━━━━━\u001b[0m\u001b[37m\u001b[0m \u001b[1m88s\u001b[0m 56ms/step - accuracy: 0.7121 - loss: 0.8252 - val_accuracy: 0.7350 - val_loss: 0.7741\n",
      "Epoch 17/30\n",
      "\u001b[1m1563/1563\u001b[0m \u001b[32m━━━━━━━━━━━━━━━━━━━━\u001b[0m\u001b[37m\u001b[0m \u001b[1m88s\u001b[0m 56ms/step - accuracy: 0.7166 - loss: 0.8188 - val_accuracy: 0.7355 - val_loss: 0.7723\n",
      "Epoch 18/30\n",
      "\u001b[1m1563/1563\u001b[0m \u001b[32m━━━━━━━━━━━━━━━━━━━━\u001b[0m\u001b[37m\u001b[0m \u001b[1m88s\u001b[0m 56ms/step - accuracy: 0.7168 - loss: 0.8160 - val_accuracy: 0.7380 - val_loss: 0.7688\n",
      "Epoch 19/30\n",
      "\u001b[1m1563/1563\u001b[0m \u001b[32m━━━━━━━━━━━━━━━━━━━━\u001b[0m\u001b[37m\u001b[0m \u001b[1m88s\u001b[0m 56ms/step - accuracy: 0.7184 - loss: 0.8082 - val_accuracy: 0.7392 - val_loss: 0.7612\n",
      "Epoch 20/30\n",
      "\u001b[1m1563/1563\u001b[0m \u001b[32m━━━━━━━━━━━━━━━━━━━━\u001b[0m\u001b[37m\u001b[0m \u001b[1m88s\u001b[0m 56ms/step - accuracy: 0.7206 - loss: 0.8053 - val_accuracy: 0.7383 - val_loss: 0.7612\n",
      "Epoch 21/30\n",
      "\u001b[1m1563/1563\u001b[0m \u001b[32m━━━━━━━━━━━━━━━━━━━━\u001b[0m\u001b[37m\u001b[0m \u001b[1m88s\u001b[0m 56ms/step - accuracy: 0.7224 - loss: 0.7975 - val_accuracy: 0.7392 - val_loss: 0.7601\n",
      "Epoch 22/30\n",
      "\u001b[1m1563/1563\u001b[0m \u001b[32m━━━━━━━━━━━━━━━━━━━━\u001b[0m\u001b[37m\u001b[0m \u001b[1m88s\u001b[0m 56ms/step - accuracy: 0.7179 - loss: 0.8076 - val_accuracy: 0.7388 - val_loss: 0.7586\n",
      "Epoch 23/30\n",
      "\u001b[1m1563/1563\u001b[0m \u001b[32m━━━━━━━━━━━━━━━━━━━━\u001b[0m\u001b[37m\u001b[0m \u001b[1m88s\u001b[0m 56ms/step - accuracy: 0.7252 - loss: 0.7882 - val_accuracy: 0.7404 - val_loss: 0.7610\n",
      "Epoch 24/30\n",
      "\u001b[1m1563/1563\u001b[0m \u001b[32m━━━━━━━━━━━━━━━━━━━━\u001b[0m\u001b[37m\u001b[0m \u001b[1m89s\u001b[0m 57ms/step - accuracy: 0.7276 - loss: 0.7827 - val_accuracy: 0.7401 - val_loss: 0.7526\n",
      "Epoch 25/30\n",
      "\u001b[1m1563/1563\u001b[0m \u001b[32m━━━━━━━━━━━━━━━━━━━━\u001b[0m\u001b[37m\u001b[0m \u001b[1m88s\u001b[0m 56ms/step - accuracy: 0.7245 - loss: 0.7883 - val_accuracy: 0.7384 - val_loss: 0.7551\n",
      "Epoch 26/30\n",
      "\u001b[1m1563/1563\u001b[0m \u001b[32m━━━━━━━━━━━━━━━━━━━━\u001b[0m\u001b[37m\u001b[0m \u001b[1m88s\u001b[0m 56ms/step - accuracy: 0.7260 - loss: 0.7802 - val_accuracy: 0.7431 - val_loss: 0.7528\n",
      "Epoch 27/30\n",
      "\u001b[1m1563/1563\u001b[0m \u001b[32m━━━━━━━━━━━━━━━━━━━━\u001b[0m\u001b[37m\u001b[0m \u001b[1m87s\u001b[0m 56ms/step - accuracy: 0.7286 - loss: 0.7726 - val_accuracy: 0.7432 - val_loss: 0.7470\n",
      "Epoch 28/30\n",
      "\u001b[1m1563/1563\u001b[0m \u001b[32m━━━━━━━━━━━━━━━━━━━━\u001b[0m\u001b[37m\u001b[0m \u001b[1m88s\u001b[0m 56ms/step - accuracy: 0.7351 - loss: 0.7565 - val_accuracy: 0.7351 - val_loss: 0.7578\n",
      "Epoch 29/30\n",
      "\u001b[1m1563/1563\u001b[0m \u001b[32m━━━━━━━━━━━━━━━━━━━━\u001b[0m\u001b[37m\u001b[0m \u001b[1m89s\u001b[0m 57ms/step - accuracy: 0.7333 - loss: 0.7625 - val_accuracy: 0.7424 - val_loss: 0.7492\n",
      "Epoch 30/30\n",
      "\u001b[1m1563/1563\u001b[0m \u001b[32m━━━━━━━━━━━━━━━━━━━━\u001b[0m\u001b[37m\u001b[0m \u001b[1m88s\u001b[0m 56ms/step - accuracy: 0.7270 - loss: 0.7805 - val_accuracy: 0.7453 - val_loss: 0.7391\n",
      "Training time: 2655.4742348194122\n"
     ]
    }
   ],
   "source": [
    "start_time = time.time()\n",
    "model = tuner.hypermodel.build(best_hps)\n",
    "# history  = model.fit(X_train, y_train, epochs=30, validation_split=0.15)\n",
    "history = model.fit(augmenter.flow(X_train, y_train, batch_size=32),\n",
    "          validation_data=(X_test, y_test),\n",
    "#           steps_per_epoch=len(x_train) // 32,\n",
    "          epochs=30)\n",
    "\n",
    "end_time = time.time()\n",
    "training_time = end_time-start_time\n",
    "print(\"Training time:\", training_time)"
   ]
  },
  {
   "cell_type": "code",
   "execution_count": 95,
   "metadata": {
    "execution": {
     "iopub.execute_input": "2024-05-06T23:37:39.274457Z",
     "iopub.status.busy": "2024-05-06T23:37:39.273553Z",
     "iopub.status.idle": "2024-05-06T23:37:39.280388Z",
     "shell.execute_reply": "2024-05-06T23:37:39.279395Z",
     "shell.execute_reply.started": "2024-05-06T23:37:39.274422Z"
    }
   },
   "outputs": [
    {
     "data": {
      "text/plain": [
       "<keras.src.callbacks.history.History at 0x78ce3c1435b0>"
      ]
     },
     "execution_count": 95,
     "metadata": {},
     "output_type": "execute_result"
    }
   ],
   "source": [
    "# history"
   ]
  },
  {
   "cell_type": "code",
   "execution_count": 25,
   "metadata": {
    "execution": {
     "iopub.execute_input": "2024-05-07T01:22:33.169284Z",
     "iopub.status.busy": "2024-05-07T01:22:33.168235Z",
     "iopub.status.idle": "2024-05-07T01:22:33.173229Z",
     "shell.execute_reply": "2024-05-07T01:22:33.172266Z",
     "shell.execute_reply.started": "2024-05-07T01:22:33.169247Z"
    }
   },
   "outputs": [],
   "source": [
    "# plt.figure(figsize=(14, 5))\n",
    "# plt.subplot(1, 2, 1)\n",
    "# plt.plot(history.history['loss'], label='Loss')\n",
    "# plt.plot(history.history['val_loss'], label='Val Loss')\n",
    "# plt.title('Loss Evolution')\n",
    "# plt.legend()\n",
    "\n",
    "# plt.subplot(1, 2, 2)\n",
    "# plt.plot(history.history['accuracy'], label='Accuracy')\n",
    "# plt.plot(history.history['val_accuracy'], label='Val Accuracy')\n",
    "# plt.title('Accuracy Evolution')\n",
    "# plt.legend()\n",
    "# plt.show()\n"
   ]
  },
  {
   "cell_type": "code",
   "execution_count": 96,
   "metadata": {
    "execution": {
     "iopub.execute_input": "2024-05-06T23:37:39.720618Z",
     "iopub.status.busy": "2024-05-06T23:37:39.720326Z",
     "iopub.status.idle": "2024-05-06T23:37:49.964176Z",
     "shell.execute_reply": "2024-05-06T23:37:49.963252Z",
     "shell.execute_reply.started": "2024-05-06T23:37:39.720593Z"
    }
   },
   "outputs": [
    {
     "name": "stdout",
     "output_type": "stream",
     "text": [
      "\u001b[1m313/313\u001b[0m \u001b[32m━━━━━━━━━━━━━━━━━━━━\u001b[0m\u001b[37m\u001b[0m \u001b[1m9s\u001b[0m 19ms/step\n",
      "Précision Top-1 : 0.7453\n",
      "Précision Top-5 : 0.9826\n"
     ]
    }
   ],
   "source": [
    "y_pred = model.predict(X_test)\n",
    "\n",
    "# Calculer la précision top-1\n",
    "top1_accuracy = np.mean(np.argmax(y_pred, axis=1) == np.argmax(y_test, axis=1))\n",
    "\n",
    "# Trier les prédictions pour chaque échantillon et obtenir les cinq classes les plus probables\n",
    "top5_predictions = np.argsort(y_pred, axis=1)[:, -5:]\n",
    "\n",
    "# Vérifier si la vraie classe est parmi les cinq premières prédictions pour chaque échantillon\n",
    "top5_accuracy = np.mean([1 if np.argmax(y_test[i]) in top5_predictions[i] else 0 for i in range(len(y_test))])\n",
    "\n",
    "print(f\"Précision Top-1 : {top1_accuracy}\")\n",
    "print(f\"Précision Top-5 : {top5_accuracy}\")"
   ]
  },
  {
   "cell_type": "code",
   "execution_count": null,
   "metadata": {},
   "outputs": [],
   "source": [
    "model.save('/kaggle/working/my_model01.h5')"
   ]
  },
  {
   "cell_type": "markdown",
   "metadata": {},
   "source": [
    "# Conclusion: "
   ]
  },
  {
   "cell_type": "markdown",
   "metadata": {},
   "source": [
    "On peut bien visulaizer d'apres les resultats des deux approches utilisee, que la deuxieme donne des meilleurs resultats pou la top-1 accuracy meme si on est a 5% pour battre le score qui est de 79%. aussi la deuxieme approche donner des meiileurs resultats pour la Top-5 accuracy  "
   ]
  }
 ],
 "metadata": {
  "kaggle": {
   "accelerator": "gpu",
   "dataSources": [],
   "dockerImageVersionId": 30698,
   "isGpuEnabled": true,
   "isInternetEnabled": true,
   "language": "python",
   "sourceType": "notebook"
  },
  "kernelspec": {
   "display_name": "Python 3 (ipykernel)",
   "language": "python",
   "name": "python3"
  },
  "language_info": {
   "codemirror_mode": {
    "name": "ipython",
    "version": 3
   },
   "file_extension": ".py",
   "mimetype": "text/x-python",
   "name": "python",
   "nbconvert_exporter": "python",
   "pygments_lexer": "ipython3",
   "version": "3.8.19"
  }
 },
 "nbformat": 4,
 "nbformat_minor": 4
}
